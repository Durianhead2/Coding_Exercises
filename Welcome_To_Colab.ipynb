{
  "cells": [
    {
      "cell_type": "markdown",
      "metadata": {
        "id": "view-in-github",
        "colab_type": "text"
      },
      "source": [
        "<a href=\"https://colab.research.google.com/github/Durianhead2/OOP-Exercise/blob/main/Welcome_To_Colab.ipynb\" target=\"_parent\"><img src=\"https://colab.research.google.com/assets/colab-badge.svg\" alt=\"Open In Colab\"/></a>"
      ]
    },
    {
      "cell_type": "code",
      "source": [
        "import numpy as np\n",
        "\n",
        "class Circle:\n",
        "\n",
        "    def __init__(self, radius):\n",
        "      self.radius = radius\n",
        "\n",
        "    def calculateArea(self):\n",
        "      self.area = np.pi * self.radius ** 2\n",
        "      return self.area\n",
        "\n",
        "    def calculatePerimeter(self):\n",
        "      self.perimeter = 2 * np.pi * self.radius\n",
        "      return self.perimeter\n",
        "\n",
        "circle1 = Circle(5)\n",
        "\n",
        "print(circle1.calculateArea())\n",
        "print(circle1.calculatePerimeter())"
      ],
      "metadata": {
        "colab": {
          "base_uri": "https://localhost:8080/"
        },
        "id": "K91PQTB_BbVo",
        "outputId": "069a0c55-5e78-44c6-9768-05f091707233"
      },
      "execution_count": 4,
      "outputs": [
        {
          "output_type": "stream",
          "name": "stdout",
          "text": [
            "78.53981633974483\n",
            "31.41592653589793\n"
          ]
        }
      ]
    }
  ],
  "metadata": {
    "colab": {
      "name": "Welcome To Colab",
      "toc_visible": true,
      "provenance": [],
      "include_colab_link": true
    },
    "kernelspec": {
      "display_name": "Python 3",
      "name": "python3"
    }
  },
  "nbformat": 4,
  "nbformat_minor": 0
}